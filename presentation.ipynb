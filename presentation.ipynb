{
 "cells": [
  {
   "cell_type": "markdown",
   "metadata": {
    "slideshow": {
     "slide_type": "slide"
    },
    "toc": true
   },
   "source": [
    "<h1>Table des matières<span class=\"tocSkip\"></span></h1>\n",
    "<div class=\"toc\"><ul class=\"toc-item\"><li><span><a href=\"#Pourquoi--Jupyter?\" data-toc-modified-id=\"Pourquoi--Jupyter?-1\"><span class=\"toc-item-num\">1&nbsp;&nbsp;</span>Pourquoi  Jupyter?</a></span><ul class=\"toc-item\"><li><span><a href=\"#Environnement-informatique\" data-toc-modified-id=\"Environnement-informatique-1.1\"><span class=\"toc-item-num\">1.1&nbsp;&nbsp;</span>Environnement informatique</a></span></li><li><span><a href=\"#Coté-enseignant\" data-toc-modified-id=\"Coté-enseignant-1.2\"><span class=\"toc-item-num\">1.2&nbsp;&nbsp;</span>Coté enseignant</a></span></li><li><span><a href=\"#premier-exemple\" data-toc-modified-id=\"premier-exemple-1.3\"><span class=\"toc-item-num\">1.3&nbsp;&nbsp;</span>premier exemple</a></span></li><li><span><a href=\"#second-exemple\" data-toc-modified-id=\"second-exemple-1.4\"><span class=\"toc-item-num\">1.4&nbsp;&nbsp;</span>second exemple</a></span></li><li><span><a href=\"#NbGrader\" data-toc-modified-id=\"NbGrader-1.5\"><span class=\"toc-item-num\">1.5&nbsp;&nbsp;</span>NbGrader</a></span></li></ul></li><li><span><a href=\"#Problèmes-rencontrés-!!!\" data-toc-modified-id=\"Problèmes-rencontrés-!!!-2\"><span class=\"toc-item-num\">2&nbsp;&nbsp;</span>Problèmes rencontrés !!!</a></span><ul class=\"toc-item\"><li><span><a href=\"#problèmes-matériels\" data-toc-modified-id=\"problèmes-matériels-2.1\"><span class=\"toc-item-num\">2.1&nbsp;&nbsp;</span>problèmes matériels</a></span></li><li><span><a href=\"#problèmes-pédagogiques\" data-toc-modified-id=\"problèmes-pédagogiques-2.2\"><span class=\"toc-item-num\">2.2&nbsp;&nbsp;</span>problèmes pédagogiques</a></span></li><li><span><a href=\"#problèmes-sur-l'environnement\" data-toc-modified-id=\"problèmes-sur-l'environnement-2.3\"><span class=\"toc-item-num\">2.3&nbsp;&nbsp;</span>problèmes sur l'environnement</a></span></li></ul></li><li><span><a href=\"#Conclusion\" data-toc-modified-id=\"Conclusion-3\"><span class=\"toc-item-num\">3&nbsp;&nbsp;</span>Conclusion</a></span></li><li><span><a href=\"#Bibliographie\" data-toc-modified-id=\"Bibliographie-4\"><span class=\"toc-item-num\">4&nbsp;&nbsp;</span>Bibliographie</a></span><ul class=\"toc-item\"><li><span><a href=\"#Présentation-Thomas-Kluyver\" data-toc-modified-id=\"Présentation-Thomas-Kluyver-4.1\"><span class=\"toc-item-num\">4.1&nbsp;&nbsp;</span>Présentation Thomas Kluyver</a></span></li><li><span><a href=\"#Présentation-Jessica-Hamrick\" data-toc-modified-id=\"Présentation-Jessica-Hamrick-4.2\"><span class=\"toc-item-num\">4.2&nbsp;&nbsp;</span>Présentation Jessica Hamrick</a></span></li><li><span><a href=\"#Lorena-A.-Barba-Group\" data-toc-modified-id=\"Lorena-A.-Barba-Group-4.3\"><span class=\"toc-item-num\">4.3&nbsp;&nbsp;</span>Lorena A. Barba Group</a></span></li><li><span><a href=\"#Jupyter-NbViewer\" data-toc-modified-id=\"Jupyter-NbViewer-4.4\"><span class=\"toc-item-num\">4.4&nbsp;&nbsp;</span>Jupyter NbViewer</a></span></li><li><span><a href=\"#Jupyter-education-mailing-list\" data-toc-modified-id=\"Jupyter-education-mailing-list-4.5\"><span class=\"toc-item-num\">4.5&nbsp;&nbsp;</span>Jupyter education mailing list</a></span></li></ul></li><li><span><a href=\"#Question-?\" data-toc-modified-id=\"Question-?-5\"><span class=\"toc-item-num\">5&nbsp;&nbsp;</span>Question ?</a></span></li></ul></div>"
   ]
  },
  {
   "cell_type": "code",
   "execution_count": 1,
   "metadata": {
    "slideshow": {
     "slide_type": "skip"
    }
   },
   "outputs": [
    {
     "data": {
      "application/javascript": [
       "IPython.notebook.set_autosave_interval(300000)"
      ]
     },
     "metadata": {},
     "output_type": "display_data"
    },
    {
     "name": "stdout",
     "output_type": "stream",
     "text": [
      "Autosaving every 300 seconds\n"
     ]
    },
    {
     "data": {
      "text/html": [
       "<link href='http://fonts.googleapis.com/css?family=Alegreya+Sans:100,300,400,500,700,800,900,100italic,300italic,400italic,500italic,700italic,800italic,900italic' rel='stylesheet' type='text/css'>\n",
       "<link href='http://fonts.googleapis.com/css?family=Arvo:400,700,400italic' rel='stylesheet' type='text/css'>\n",
       "<link href='http://fonts.googleapis.com/css?family=PT+Mono' rel='stylesheet' type='text/css'>\n",
       "<link href='http://fonts.googleapis.com/css?family=Shadows+Into+Light' rel='stylesheet' type='text/css'>\n",
       "<link href='http://fonts.googleapis.com/css?family=Philosopher:400,700,400italic,700italic' rel='stylesheet' type='text/css'>\n",
       "<style>\n",
       "\n",
       "@font-face {\n",
       "    font-family: \"Computer Modern\";\n",
       "    src: url('http://mirrors.ctan.org/fonts/cm-unicode/fonts/otf/cmunss.otf');\n",
       "}\n",
       "\n",
       "#notebook_panel { /* main background */\n",
       "    background: #888;\n",
       "    color: #000000;\n",
       "}\n",
       "\n",
       "div.cell { /* set cell width to about 80 chars */\n",
       "    /* width: 850px; */\n",
       "}\n",
       "\n",
       "div #notebook { /* centre the content */\n",
       "    background: #fff; /* white background for content */\n",
       "    width: 1200px; \n",
       "    margin: auto;\n",
       "    padding-left: 1em;\n",
       "}\n",
       "\n",
       "#notebook li { /* More space between bullet points */\n",
       "margin-top:0.8em;\n",
       "}\n",
       "\n",
       "/* draw border around running cells */\n",
       "div.cell.border-box-sizing.code_cell.running { \n",
       "    border: 3px solid #111;\n",
       "}\n",
       "\n",
       "/* Put a solid color box around each cell and its output, visually linking them together */\n",
       "div.cell.code_cell {\n",
       "    background-color: rgba(240,240,240,1.0); \n",
       "    border-radius: 10px; /* rounded borders */\n",
       "    padding: 1em;\n",
       "    margin-top: 1em;\n",
       "}\n",
       "\n",
       "div.text_cell_render{\n",
       "    font-family: 'Arvo' sans-serif;\n",
       "    line-height: 130%;\n",
       "    font-size: 120%;\n",
       "    width:1000px; \n",
       "    margin-left:auto;\n",
       "    margin-right:auto;\n",
       "}\n",
       "\n",
       "\n",
       "/* Formatting for header cells */\n",
       ".text_cell_render h1 {\n",
       "    font-family: 'Philosopher', sans-serif;\n",
       "    font-weight: 400;\n",
       "    font-size: 40pt;\n",
       "    line-height: 100%;\n",
       "    color: rgb(12,85,97);\n",
       "    margin-bottom: 0.1em;\n",
       "    margin-top: 0.1em;\n",
       "    display: block;\n",
       "}\t\n",
       ".text_cell_render h2 {\n",
       "    font-family: 'Philosopher', serif;\n",
       "    font-weight: 700;\n",
       "    font-size: 34pt;\n",
       "    line-height: 100%;\n",
       "    color: rgb(171,165,131);\n",
       "    margin-bottom: 0.1em;\n",
       "    margin-top: 0.1em;\n",
       "    display: block;\n",
       "}\t\n",
       "\n",
       ".text_cell_render h3 {\n",
       "    font-family: 'Philosopher', serif;\n",
       "    font-size: 30pt;\n",
       "    margin-top:12px;\n",
       "    margin-bottom: 3px;\n",
       "    font-style: italic;\n",
       "    color: rgb(95,92,72);\n",
       "}\n",
       "\n",
       ".text_cell_render h4 {\n",
       "    font-family: 'Philosopher', serif;\n",
       "}\n",
       "\n",
       ".text_cell_render h5 {\n",
       "    font-family: 'Alegreya Sans', sans-serif;\n",
       "    font-weight: 300;\n",
       "    font-size: 16pt;\n",
       "    color: grey;\n",
       "    font-style: italic;\n",
       "    margin-bottom: .1em;\n",
       "    margin-top: 0.1em;\n",
       "    display: block;\n",
       "}\n",
       "\n",
       ".text_cell_render h6 {\n",
       "    font-family: 'PT Mono', sans-serif;\n",
       "    font-weight: 300;\n",
       "    font-size: 10pt;\n",
       "    color: grey;\n",
       "    margin-bottom: 1px;\n",
       "    margin-top: 1px;\n",
       "}\n",
       "\n",
       ".CodeMirror{\n",
       "\tfont-family: \"PT Mono\";\n",
       "        font-size: 150%;\n",
       "}\n",
       "\n",
       ".rendered_html code{\n",
       "\tfont-family: 'PT Mono', sans-serif;\n",
       "    \tfont-weight: 300;\n",
       "\tfont-size: 120%;\n",
       "/*\tcolor: #083F42; */\n",
       "\tbackground-color: #FFFFDD;\n",
       "    \tmargin-bottom: 10px;\n",
       "    \tmargin-top: 10px;\n",
       "}\n",
       ".output {\n",
       "\tfont-size: 120%;\n",
       "\tcolor: #000000;\n",
       "}\n",
       "</style>\n"
      ],
      "text/plain": [
       "<IPython.core.display.HTML object>"
      ]
     },
     "execution_count": 1,
     "metadata": {},
     "output_type": "execute_result"
    }
   ],
   "source": [
    "%matplotlib inline\n",
    "%autosave 300\n",
    "import numpy as np\n",
    "import scipy as sp\n",
    "import matplotlib.pyplot as plt\n",
    "from matplotlib import rcParams\n",
    "rcParams['font.family'] = 'serif'\n",
    "rcParams['font.size'] = 14\n",
    "from IPython.core.display import HTML\n",
    "from IPython.display import display\n",
    "from matplotlib import animation\n",
    "css_file = 'style.css'\n",
    "HTML(open(css_file, \"r\").read())\n",
    "# edit metadata   \"livereveal\": { \"scroll\": true },\n",
    "# https://damianavila.github.io/RISE/customize.html"
   ]
  },
  {
   "cell_type": "markdown",
   "metadata": {
    "slideshow": {
     "slide_type": "slide"
    }
   },
   "source": [
    "<font face=\"Philosopher\" size=\"30\">\n",
    "    <p>\"Jupyter Notebook pour la formation</p>\n",
    "    <p>un retour d'expérience\"</p>\n",
    "    <p> </p>\n",
    "</font>\n",
    "<font face=\"verdana\" size=\"6\" weight=\"200\">\n",
    "    <p>Marc Buffat, dpt mécanique</p>\n",
    "    <p>Université Claude Bernard Lyon 1</p>\n",
    "</font>\n"
   ]
  },
  {
   "cell_type": "markdown",
   "metadata": {
    "slideshow": {
     "slide_type": "subslide"
    }
   },
   "source": [
    "# Pourquoi  Jupyter?\n",
    "\n",
    "- permet de combiner du texte, des mathématiques et du code\n",
    "\n",
    "- permet des cours plus interactifs (démonstration)\n",
    "\n",
    "- logiciel libre multi-plateforme\n",
    "\n"
   ]
  },
  {
   "cell_type": "markdown",
   "metadata": {
    "slideshow": {
     "slide_type": "subslide"
    }
   },
   "source": [
    "- basé sur des outils standards (et libres) \n",
    "   - python, ( R, julia, ..) \n",
    "   - markdown,  HTML, $\\LaTeX$,\n",
    "\n",
    "- utilise un navigateur web (HTML5)\n",
    "- outils de présentation interactifs\n",
    "   - slideshow (rise)\n",
    "   - interact, animation, video HTML5"
   ]
  },
  {
   "cell_type": "markdown",
   "metadata": {
    "slideshow": {
     "slide_type": "subslide"
    }
   },
   "source": [
    "## Environnement informatique\n",
    "\n",
    "- 2 salles informatiques sous Linux avec Jupyter sur chaque poste\n",
    "\n",
    "- un serveur JupyterHub:\n",
    "[mooc.mecanique.univ-lyon1.fr](https://mooc.mecanique.univ-lyon1.fr/)\n",
    "\n",
    "- un serveur gitlab (forge) :\n",
    "[forge.p2chpd.univ-lyon1.fr ](https://forge.p2chpd.univ-lyon1.fr/users/sign_in)\n",
    "   \n"
   ]
  },
  {
   "cell_type": "markdown",
   "metadata": {
    "slideshow": {
     "slide_type": "subslide"
    }
   },
   "source": [
    "## Coté enseignant\n",
    "\n",
    "- environnement LinuX/Ubuntu + Jupyter\n",
    "\n",
    "- serveur pédagogique moodle\n",
    "\n",
    "- utilisation jupyter en salle info\n",
    "\n",
    "- utilisation de jupyterhub\n",
    "\n",
    "- utilisation de nbviewer\n",
    "\n",
    "- développement d'outils propres"
   ]
  },
  {
   "cell_type": "markdown",
   "metadata": {
    "slideshow": {
     "slide_type": "slide"
    }
   },
   "source": [
    "## premier exemple\n",
    "*cours dynamique des gaz (polytech 5A):*\n",
    "\n",
    "**en salle de cours (avec video-projecteur)**\n",
    "\n",
    "- Partie I: thèorie\n",
    "  - support théorique en PDF \n",
    "  - présentation $LaTeX$\n",
    "  - utilisation d'une tablette"
   ]
  },
  {
   "cell_type": "markdown",
   "metadata": {
    "slideshow": {
     "slide_type": "subslide"
    }
   },
   "source": [
    "- Partie II: CFD \n",
    "  - support théorique en PDF sur le portail pédagogique\n",
    "  - présentation code + expérience numérique avec notebook\n",
    "  \n",
    "  - [simulation des équation hyperboliques](MECAFLU/Compressible/SchemaDF.ipynb)\n",
    "  - [nbviewer: version étudiant](http://nbviewer.ipython.org/url/ufrmeca.univ-lyon1.fr/~buffat/Notebook/MECAFLU/Compressible/SchemaDF.ipynb)"
   ]
  },
  {
   "cell_type": "markdown",
   "metadata": {
    "slideshow": {
     "slide_type": "slide"
    }
   },
   "source": [
    "## second exemple\n",
    "\n",
    " *TP de traitement du signal en Licence L3:*\n",
    " \n",
    " **en salle informatique**\n",
    " \n",
    "  - [TP version enseignant](TSL3/TP4_TraitementSignal.ipynb)\n",
    "  - [TP version étudiant](TSL3/TP4_etudiant.ipynb)"
   ]
  },
  {
   "cell_type": "markdown",
   "metadata": {
    "slideshow": {
     "slide_type": "subslide"
    }
   },
   "source": [
    "## NbGrader\n",
    "\n",
    "Auto-correction et notation automatique des notebooks\n",
    "\n",
    "**en test (version stand alone)**\n",
    "\n",
    " - [NbGrader enseignant](NbGrader/CalculScientifique)\n",
    " - [NbGrader etudiant](NbGrader/CalculScientifique/etudiants)"
   ]
  },
  {
   "cell_type": "markdown",
   "metadata": {
    "slideshow": {
     "slide_type": "slide"
    }
   },
   "source": [
    "# Problèmes rencontrés !!!\n",
    "\n",
    "\n"
   ]
  },
  {
   "cell_type": "markdown",
   "metadata": {
    "slideshow": {
     "slide_type": "subslide"
    }
   },
   "source": [
    "## problèmes matériels\n",
    "- absence de certains outils (spell-checker, undo, ..)\n",
    "- mise en page (moins souple que beamer/$\\LaTeX$)\n",
    "- sortie volumineuse !!\n",
    "- problème avec les vidéo-projecteurs basse résolution\n",
    "- quelques bugs !!!"
   ]
  },
  {
   "cell_type": "markdown",
   "metadata": {
    "slideshow": {
     "slide_type": "subslide"
    }
   },
   "source": [
    "## problèmes pédagogiques\n",
    "\n",
    "**pour les étudiants**\n",
    "\n",
    " - \"mal\" adapté à l'apprentissage de la programmation\n",
    " \n",
    " - environnement (trop) complexe et confus\n",
    "     - execution non séquentielle\n",
    "     - variables cachées\n",
    "     - initialisation\n",
    "\n",
    " - trop éloigné environnement CLI (idéal)\n",
    "     - shell\n",
    "     - éditeur\n",
    "     - interpréteur ipython"
   ]
  },
  {
   "cell_type": "markdown",
   "metadata": {
    "slideshow": {
     "slide_type": "subslide"
    }
   },
   "source": [
    "## problèmes sur l'environnement\n",
    "\n",
    "**pour l'enseignant**\n",
    "\n",
    " - environnement \"trop\" rigide\n",
    " - détournement d'usage (gitlab)\n",
    " - partage avec les étudiants\n",
    " - inter-opérabilité\n",
    "  "
   ]
  },
  {
   "cell_type": "markdown",
   "metadata": {
    "slideshow": {
     "slide_type": "slide"
    }
   },
   "source": [
    "# Conclusion\n",
    "\n",
    "  - utilisation d'outils variés\n",
    "    - inter-opérabilité\n",
    "    - partage avec les étudiants\n",
    "  - besoins/contraintes dictées par l'usage\n",
    "  - maîtrise de son environnement\n",
    "    - solution pur cloud "
   ]
  },
  {
   "cell_type": "markdown",
   "metadata": {
    "slideshow": {
     "slide_type": "slide"
    }
   },
   "source": [
    "# Bibliographie\n"
   ]
  },
  {
   "cell_type": "markdown",
   "metadata": {
    "slideshow": {
     "slide_type": "subslide"
    }
   },
   "source": [
    "## Présentation Thomas Kluyver\n",
    "- Thomas Kluyver - Jupyter notebooks for teaching and learning\n",
    "\n",
    "- EuroPython Juillet 2017"
   ]
  },
  {
   "cell_type": "code",
   "execution_count": 2,
   "metadata": {
    "slideshow": {
     "slide_type": "-"
    }
   },
   "outputs": [
    {
     "data": {
      "image/jpeg": "[encoded data removed]",
      "text/html": [
       "\n",
       "        <iframe\n",
       "            width=\"400\"\n",
       "            height=\"300\"\n",
       "            src=\"https://www.youtube.com/embed/S7uUEwICDcc\"\n",
       "            frameborder=\"0\"\n",
       "            allowfullscreen\n",
       "        ></iframe>\n",
       "        "
      ],
      "text/plain": [
       "<IPython.lib.display.YouTubeVideo at 0x7f7b80161c88>"
      ]
     },
     "execution_count": 2,
     "metadata": {},
     "output_type": "execute_result"
    }
   ],
   "source": [
    "from IPython.display import YouTubeVideo\n",
    "YouTubeVideo(\"S7uUEwICDcc\")"
   ]
  },
  {
   "cell_type": "markdown",
   "metadata": {
    "slideshow": {
     "slide_type": "subslide"
    }
   },
   "source": [
    "## Présentation Jessica Hamrick\n",
    "- nbgrader A Tool for Creating and Grading Assignments in the Jupyter Notebook \n",
    "- SciPy 2017 "
   ]
  },
  {
   "cell_type": "code",
   "execution_count": 3,
   "metadata": {
    "slideshow": {
     "slide_type": "-"
    }
   },
   "outputs": [
    {
     "data": {
      "image/jpeg": "[encoded data removed]",
      "text/html": [
       "\n",
       "        <iframe\n",
       "            width=\"400\"\n",
       "            height=\"300\"\n",
       "            src=\"https://www.youtube.com/embed/5WUm0QuJdFw\"\n",
       "            frameborder=\"0\"\n",
       "            allowfullscreen\n",
       "        ></iframe>\n",
       "        "
      ],
      "text/plain": [
       "<IPython.lib.display.YouTubeVideo at 0x7f7b80161ef0>"
      ]
     },
     "execution_count": 3,
     "metadata": {},
     "output_type": "execute_result"
    }
   ],
   "source": [
    "YouTubeVideo(\"5WUm0QuJdFw\")"
   ]
  },
  {
   "cell_type": "markdown",
   "metadata": {
    "slideshow": {
     "slide_type": "subslide"
    }
   },
   "source": [
    "## Lorena A. Barba Group\n",
    "\n",
    "[12 steps to Navier Stokes](http://lorenabarba.com/blog/cfd-python-12-steps-to-navier-stokes)"
   ]
  },
  {
   "cell_type": "markdown",
   "metadata": {
    "slideshow": {
     "slide_type": "subslide"
    }
   },
   "source": [
    "## Jupyter NbViewer\n",
    "\n",
    "[Jupyter nbviewer](https://nbviewer.jupyter.org)"
   ]
  },
  {
   "cell_type": "markdown",
   "metadata": {
    "slideshow": {
     "slide_type": "subslide"
    }
   },
   "source": [
    "## Jupyter education mailing list\n",
    "[groups.google.com/d/forum/jupyter-education](groups.google.com/d/forum/jupyter-education)"
   ]
  },
  {
   "cell_type": "markdown",
   "metadata": {
    "slideshow": {
     "slide_type": "slide"
    }
   },
   "source": [
    "# Question ?\n"
   ]
  },
  {
   "cell_type": "code",
   "execution_count": null,
   "metadata": {
    "slideshow": {
     "slide_type": "skip"
    }
   },
   "outputs": [],
   "source": []
  }
 ],
 "metadata": {
  "celltoolbar": "Slideshow",
  "kernelspec": {
   "display_name": "Python 3",
   "language": "python",
   "name": "python3"
  },
  "language_info": {
   "codemirror_mode": {
    "name": "ipython",
    "version": 3
   },
   "file_extension": ".py",
   "mimetype": "text/x-python",
   "name": "python",
   "nbconvert_exporter": "python",
   "pygments_lexer": "ipython3",
   "version": "3.5.2"
  },
  "livereveal": {
   "scroll": true,
   "theme": "sky"
  },
  "toc": {
   "nav_menu": {},
   "number_sections": true,
   "sideBar": true,
   "skip_h1_title": false,
   "title_cell": "Table des matières",
   "title_sidebar": "Contenu",
   "toc_cell": true,
   "toc_position": {},
   "toc_section_display": true,
   "toc_window_display": false
  }
 },
 "nbformat": 4,
 "nbformat_minor": 2
}
